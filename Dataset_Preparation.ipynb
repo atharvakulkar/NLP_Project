{
  "nbformat": 4,
  "nbformat_minor": 0,
  "metadata": {
    "colab": {
      "provenance": []
    },
    "kernelspec": {
      "name": "python3",
      "display_name": "Python 3"
    },
    "language_info": {
      "name": "python"
    }
  },
  "cells": [
    {
      "cell_type": "code",
      "execution_count": 1,
      "metadata": {
        "colab": {
          "base_uri": "https://localhost:8080/"
        },
        "id": "KoJ42RCF4vYs",
        "outputId": "d8b2b1c5-bb4c-4e8c-d433-8b46a4fec998"
      },
      "outputs": [
        {
          "output_type": "stream",
          "name": "stdout",
          "text": [
            "✅ Generated examples per label:\n",
            "label\n",
            "Direct to Indirect      80\n",
            "Indirect to Direct      80\n",
            "Passive to Active       60\n",
            "Active to Passive       60\n",
            "Negative to Positive    50\n",
            "Positive to Negative    50\n",
            "Name: count, dtype: int64\n",
            "\n",
            "Sample:\n",
            "                    original_sentence                transformed_sentence  \\\n",
            "0  The cake was caught by the driver.         The driver caught the cake.   \n",
            "1      Noah said, \"I like chocolate.\"  Noah said that he liked chocolate.   \n",
            "2        Ravi said that he was happy.            Ravi said, \"I am happy.\"   \n",
            "3        The driver is not beautiful.            The driver is beautiful.   \n",
            "4                   The chef is good.               The chef is not good.   \n",
            "5            The boy chased the ball.     The ball was chased by the boy.   \n",
            "6           The cat washed the mouse.    The mouse was washed by the cat.   \n",
            "7        The police officer is tasty.    The police officer is not tasty.   \n",
            "8    Sarah said that he liked coffee.        Sarah said, \"I like coffee.\"   \n",
            "9        Asha said that he was bored.            Asha said, \"I am bored.\"   \n",
            "\n",
            "                  label  \n",
            "0     Passive to Active  \n",
            "1    Direct to Indirect  \n",
            "2    Indirect to Direct  \n",
            "3  Negative to Positive  \n",
            "4  Positive to Negative  \n",
            "5     Active to Passive  \n",
            "6     Active to Passive  \n",
            "7  Positive to Negative  \n",
            "8    Indirect to Direct  \n",
            "9    Indirect to Direct  \n",
            "\n",
            "Saved as 'sentence_transformation_dataset.csv' successfully!\n"
          ]
        }
      ],
      "source": [
        "import random\n",
        "import pandas as pd\n",
        "\n",
        "# -------------------------------\n",
        "# Utility: random helpers\n",
        "# -------------------------------\n",
        "def choice(x): return random.choice(x)\n",
        "\n",
        "# Word pools\n",
        "subjects = [\"The boy\", \"The girl\", \"The teacher\", \"The cat\", \"The chef\", \"The dog\", \"The student\", \"The singer\", \"The driver\", \"The police officer\"]\n",
        "objects  = [\"the ball\", \"the book\", \"the cake\", \"the mouse\", \"the car\", \"the song\", \"the homework\", \"the painting\", \"the phone\", \"the door\"]\n",
        "verbs    = [\"kicked\", \"read\", \"baked\", \"chased\", \"washed\", \"opened\", \"painted\", \"fixed\", \"caught\", \"wrote\"]\n",
        "\n",
        "names = [\"John\", \"Mary\", \"Alex\", \"Ravi\", \"Sarah\", \"Priya\", \"Tom\", \"Liam\", \"Asha\", \"Noah\"]\n",
        "feelings = [\"happy\", \"tired\", \"angry\", \"sad\", \"excited\", \"bored\", \"confused\"]\n",
        "likes = [\"apples\", \"books\", \"music\", \"movies\", \"coffee\", \"chocolate\"]\n",
        "\n",
        "positive_adjectives = [\"good\", \"tasty\", \"beautiful\", \"clean\", \"smart\", \"bright\", \"strong\", \"peaceful\", \"amazing\", \"fun\"]\n",
        "negative_adjectives = [\"bad\", \"dirty\", \"boring\", \"ugly\", \"weak\", \"dull\", \"sad\", \"noisy\", \"terrible\", \"lazy\"]\n",
        "\n",
        "data = []\n",
        "\n",
        "# -------------------------------\n",
        "# 1. Active <-> Passive\n",
        "# -------------------------------\n",
        "for _ in range(60):\n",
        "    s = choice(subjects)\n",
        "    o = choice(objects)\n",
        "    v = choice(verbs)\n",
        "    active = f\"{s} {v} {o}.\"\n",
        "    passive = f\"{o.capitalize()} was {v} by {s.lower()}.\"\n",
        "    data.append([active, passive, \"Active to Passive\"])\n",
        "    data.append([passive, active, \"Passive to Active\"])\n",
        "\n",
        "# -------------------------------\n",
        "# 2. Direct <-> Indirect Speech\n",
        "# -------------------------------\n",
        "for _ in range(40):\n",
        "    name = choice(names)\n",
        "    adj = choice(feelings)\n",
        "    direct = f'{name} said, \"I am {adj}.\"'\n",
        "    indirect = f\"{name} said that he was {adj}.\"\n",
        "    data.append([direct, indirect, \"Direct to Indirect\"])\n",
        "    data.append([indirect, direct, \"Indirect to Direct\"])\n",
        "\n",
        "    like_item = choice(likes)\n",
        "    direct2 = f'{name} said, \"I like {like_item}.\"'\n",
        "    indirect2 = f\"{name} said that he liked {like_item}.\"\n",
        "    data.append([direct2, indirect2, \"Direct to Indirect\"])\n",
        "    data.append([indirect2, direct2, \"Indirect to Direct\"])\n",
        "\n",
        "# -------------------------------\n",
        "# 3. Positive <-> Negative\n",
        "# -------------------------------\n",
        "for _ in range(50):\n",
        "    subj = choice(subjects)\n",
        "    adj = choice(positive_adjectives)\n",
        "    pos = f\"{subj} is {adj}.\"\n",
        "    neg = pos.replace(\" is \", \" is not \")\n",
        "    data.append([pos, neg, \"Positive to Negative\"])\n",
        "    data.append([neg, pos, \"Negative to Positive\"])\n",
        "\n",
        "# -------------------------------\n",
        "# 4. Shuffle and save\n",
        "# -------------------------------\n",
        "random.shuffle(data)\n",
        "df = pd.DataFrame(data, columns=[\"original_sentence\", \"transformed_sentence\", \"label\"])\n",
        "\n",
        "print(\"✅ Generated examples per label:\")\n",
        "print(df['label'].value_counts())\n",
        "print(\"\\nSample:\")\n",
        "print(df.head(10))\n",
        "\n",
        "df.to_csv(\"sentence_transformation_dataset.csv\", index=False)\n",
        "print(\"\\nSaved as 'sentence_transformation_dataset.csv' successfully!\")\n"
      ]
    },
    {
      "cell_type": "code",
      "source": [],
      "metadata": {
        "id": "s51asF2-5Ok1"
      },
      "execution_count": null,
      "outputs": []
    }
  ]
}