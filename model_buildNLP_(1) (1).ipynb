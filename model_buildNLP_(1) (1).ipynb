{
  "nbformat": 4,
  "nbformat_minor": 0,
  "metadata": {
    "colab": {
      "provenance": [],
      "gpuType": "T4"
    },
    "kernelspec": {
      "name": "python3",
      "display_name": "Python 3"
    },
    "language_info": {
      "name": "python"
    },
    "accelerator": "GPU",
    "widgets": {
      "application/vnd.jupyter.widget-state+json": {
        "d304bfc241344b788e2c2b5a03bbe58a": {
          "model_module": "@jupyter-widgets/controls",
          "model_name": "HBoxModel",
          "model_module_version": "1.5.0",
          "state": {
            "_dom_classes": [],
            "_model_module": "@jupyter-widgets/controls",
            "_model_module_version": "1.5.0",
            "_model_name": "HBoxModel",
            "_view_count": null,
            "_view_module": "@jupyter-widgets/controls",
            "_view_module_version": "1.5.0",
            "_view_name": "HBoxView",
            "box_style": "",
            "children": [
              "IPY_MODEL_e574367ea906483e8def290a48b926e8",
              "IPY_MODEL_22a9d19405ea458699b5c64055fcbbac",
              "IPY_MODEL_49584b109d92472db022122afb39370b"
            ],
            "layout": "IPY_MODEL_050528c8f7844d4f904d978054f02b15"
          }
        },
        "e574367ea906483e8def290a48b926e8": {
          "model_module": "@jupyter-widgets/controls",
          "model_name": "HTMLModel",
          "model_module_version": "1.5.0",
          "state": {
            "_dom_classes": [],
            "_model_module": "@jupyter-widgets/controls",
            "_model_module_version": "1.5.0",
            "_model_name": "HTMLModel",
            "_view_count": null,
            "_view_module": "@jupyter-widgets/controls",
            "_view_module_version": "1.5.0",
            "_view_name": "HTMLView",
            "description": "",
            "description_tooltip": null,
            "layout": "IPY_MODEL_884be1be522f4474955292f627dfdb02",
            "placeholder": "​",
            "style": "IPY_MODEL_d19cacc4e1bb47948be4f38ec4e62a93",
            "value": "config.json: 100%"
          }
        },
        "22a9d19405ea458699b5c64055fcbbac": {
          "model_module": "@jupyter-widgets/controls",
          "model_name": "FloatProgressModel",
          "model_module_version": "1.5.0",
          "state": {
            "_dom_classes": [],
            "_model_module": "@jupyter-widgets/controls",
            "_model_module_version": "1.5.0",
            "_model_name": "FloatProgressModel",
            "_view_count": null,
            "_view_module": "@jupyter-widgets/controls",
            "_view_module_version": "1.5.0",
            "_view_name": "ProgressView",
            "bar_style": "success",
            "description": "",
            "description_tooltip": null,
            "layout": "IPY_MODEL_52030aa316964c29991d6626a4a90b4d",
            "max": 480,
            "min": 0,
            "orientation": "horizontal",
            "style": "IPY_MODEL_c880151efb264b898d7bb11f07e2b7ab",
            "value": 480
          }
        },
        "49584b109d92472db022122afb39370b": {
          "model_module": "@jupyter-widgets/controls",
          "model_name": "HTMLModel",
          "model_module_version": "1.5.0",
          "state": {
            "_dom_classes": [],
            "_model_module": "@jupyter-widgets/controls",
            "_model_module_version": "1.5.0",
            "_model_name": "HTMLModel",
            "_view_count": null,
            "_view_module": "@jupyter-widgets/controls",
            "_view_module_version": "1.5.0",
            "_view_name": "HTMLView",
            "description": "",
            "description_tooltip": null,
            "layout": "IPY_MODEL_a601bec4f095405ebd9fb453a83e3f6c",
            "placeholder": "​",
            "style": "IPY_MODEL_1a62e04dca2e4a3586b05dde656eaee0",
            "value": " 480/480 [00:00&lt;00:00, 51.7kB/s]"
          }
        },
        "050528c8f7844d4f904d978054f02b15": {
          "model_module": "@jupyter-widgets/base",
          "model_name": "LayoutModel",
          "model_module_version": "1.2.0",
          "state": {
            "_model_module": "@jupyter-widgets/base",
            "_model_module_version": "1.2.0",
            "_model_name": "LayoutModel",
            "_view_count": null,
            "_view_module": "@jupyter-widgets/base",
            "_view_module_version": "1.2.0",
            "_view_name": "LayoutView",
            "align_content": null,
            "align_items": null,
            "align_self": null,
            "border": null,
            "bottom": null,
            "display": null,
            "flex": null,
            "flex_flow": null,
            "grid_area": null,
            "grid_auto_columns": null,
            "grid_auto_flow": null,
            "grid_auto_rows": null,
            "grid_column": null,
            "grid_gap": null,
            "grid_row": null,
            "grid_template_areas": null,
            "grid_template_columns": null,
            "grid_template_rows": null,
            "height": null,
            "justify_content": null,
            "justify_items": null,
            "left": null,
            "margin": null,
            "max_height": null,
            "max_width": null,
            "min_height": null,
            "min_width": null,
            "object_fit": null,
            "object_position": null,
            "order": null,
            "overflow": null,
            "overflow_x": null,
            "overflow_y": null,
            "padding": null,
            "right": null,
            "top": null,
            "visibility": null,
            "width": null
          }
        },
        "884be1be522f4474955292f627dfdb02": {
          "model_module": "@jupyter-widgets/base",
          "model_name": "LayoutModel",
          "model_module_version": "1.2.0",
          "state": {
            "_model_module": "@jupyter-widgets/base",
            "_model_module_version": "1.2.0",
            "_model_name": "LayoutModel",
            "_view_count": null,
            "_view_module": "@jupyter-widgets/base",
            "_view_module_version": "1.2.0",
            "_view_name": "LayoutView",
            "align_content": null,
            "align_items": null,
            "align_self": null,
            "border": null,
            "bottom": null,
            "display": null,
            "flex": null,
            "flex_flow": null,
            "grid_area": null,
            "grid_auto_columns": null,
            "grid_auto_flow": null,
            "grid_auto_rows": null,
            "grid_column": null,
            "grid_gap": null,
            "grid_row": null,
            "grid_template_areas": null,
            "grid_template_columns": null,
            "grid_template_rows": null,
            "height": null,
            "justify_content": null,
            "justify_items": null,
            "left": null,
            "margin": null,
            "max_height": null,
            "max_width": null,
            "min_height": null,
            "min_width": null,
            "object_fit": null,
            "object_position": null,
            "order": null,
            "overflow": null,
            "overflow_x": null,
            "overflow_y": null,
            "padding": null,
            "right": null,
            "top": null,
            "visibility": null,
            "width": null
          }
        },
        "d19cacc4e1bb47948be4f38ec4e62a93": {
          "model_module": "@jupyter-widgets/controls",
          "model_name": "DescriptionStyleModel",
          "model_module_version": "1.5.0",
          "state": {
            "_model_module": "@jupyter-widgets/controls",
            "_model_module_version": "1.5.0",
            "_model_name": "DescriptionStyleModel",
            "_view_count": null,
            "_view_module": "@jupyter-widgets/base",
            "_view_module_version": "1.2.0",
            "_view_name": "StyleView",
            "description_width": ""
          }
        },
        "52030aa316964c29991d6626a4a90b4d": {
          "model_module": "@jupyter-widgets/base",
          "model_name": "LayoutModel",
          "model_module_version": "1.2.0",
          "state": {
            "_model_module": "@jupyter-widgets/base",
            "_model_module_version": "1.2.0",
            "_model_name": "LayoutModel",
            "_view_count": null,
            "_view_module": "@jupyter-widgets/base",
            "_view_module_version": "1.2.0",
            "_view_name": "LayoutView",
            "align_content": null,
            "align_items": null,
            "align_self": null,
            "border": null,
            "bottom": null,
            "display": null,
            "flex": null,
            "flex_flow": null,
            "grid_area": null,
            "grid_auto_columns": null,
            "grid_auto_flow": null,
            "grid_auto_rows": null,
            "grid_column": null,
            "grid_gap": null,
            "grid_row": null,
            "grid_template_areas": null,
            "grid_template_columns": null,
            "grid_template_rows": null,
            "height": null,
            "justify_content": null,
            "justify_items": null,
            "left": null,
            "margin": null,
            "max_height": null,
            "max_width": null,
            "min_height": null,
            "min_width": null,
            "object_fit": null,
            "object_position": null,
            "order": null,
            "overflow": null,
            "overflow_x": null,
            "overflow_y": null,
            "padding": null,
            "right": null,
            "top": null,
            "visibility": null,
            "width": null
          }
        },
        "c880151efb264b898d7bb11f07e2b7ab": {
          "model_module": "@jupyter-widgets/controls",
          "model_name": "ProgressStyleModel",
          "model_module_version": "1.5.0",
          "state": {
            "_model_module": "@jupyter-widgets/controls",
            "_model_module_version": "1.5.0",
            "_model_name": "ProgressStyleModel",
            "_view_count": null,
            "_view_module": "@jupyter-widgets/base",
            "_view_module_version": "1.2.0",
            "_view_name": "StyleView",
            "bar_color": null,
            "description_width": ""
          }
        },
        "a601bec4f095405ebd9fb453a83e3f6c": {
          "model_module": "@jupyter-widgets/base",
          "model_name": "LayoutModel",
          "model_module_version": "1.2.0",
          "state": {
            "_model_module": "@jupyter-widgets/base",
            "_model_module_version": "1.2.0",
            "_model_name": "LayoutModel",
            "_view_count": null,
            "_view_module": "@jupyter-widgets/base",
            "_view_module_version": "1.2.0",
            "_view_name": "LayoutView",
            "align_content": null,
            "align_items": null,
            "align_self": null,
            "border": null,
            "bottom": null,
            "display": null,
            "flex": null,
            "flex_flow": null,
            "grid_area": null,
            "grid_auto_columns": null,
            "grid_auto_flow": null,
            "grid_auto_rows": null,
            "grid_column": null,
            "grid_gap": null,
            "grid_row": null,
            "grid_template_areas": null,
            "grid_template_columns": null,
            "grid_template_rows": null,
            "height": null,
            "justify_content": null,
            "justify_items": null,
            "left": null,
            "margin": null,
            "max_height": null,
            "max_width": null,
            "min_height": null,
            "min_width": null,
            "object_fit": null,
            "object_position": null,
            "order": null,
            "overflow": null,
            "overflow_x": null,
            "overflow_y": null,
            "padding": null,
            "right": null,
            "top": null,
            "visibility": null,
            "width": null
          }
        },
        "1a62e04dca2e4a3586b05dde656eaee0": {
          "model_module": "@jupyter-widgets/controls",
          "model_name": "DescriptionStyleModel",
          "model_module_version": "1.5.0",
          "state": {
            "_model_module": "@jupyter-widgets/controls",
            "_model_module_version": "1.5.0",
            "_model_name": "DescriptionStyleModel",
            "_view_count": null,
            "_view_module": "@jupyter-widgets/base",
            "_view_module_version": "1.2.0",
            "_view_name": "StyleView",
            "description_width": ""
          }
        },
        "cf6cfbf37f534d2c8fdf85e6dd489508": {
          "model_module": "@jupyter-widgets/controls",
          "model_name": "HBoxModel",
          "model_module_version": "1.5.0",
          "state": {
            "_dom_classes": [],
            "_model_module": "@jupyter-widgets/controls",
            "_model_module_version": "1.5.0",
            "_model_name": "HBoxModel",
            "_view_count": null,
            "_view_module": "@jupyter-widgets/controls",
            "_view_module_version": "1.5.0",
            "_view_name": "HBoxView",
            "box_style": "",
            "children": [
              "IPY_MODEL_095189982fdf4880b1fe48085f11d09f",
              "IPY_MODEL_6c43550b40464703a4476077db63f1da",
              "IPY_MODEL_929bfc79f02f474d84616609752d2521"
            ],
            "layout": "IPY_MODEL_417762b7867c4bc59c033da6891650ac"
          }
        },
        "095189982fdf4880b1fe48085f11d09f": {
          "model_module": "@jupyter-widgets/controls",
          "model_name": "HTMLModel",
          "model_module_version": "1.5.0",
          "state": {
            "_dom_classes": [],
            "_model_module": "@jupyter-widgets/controls",
            "_model_module_version": "1.5.0",
            "_model_name": "HTMLModel",
            "_view_count": null,
            "_view_module": "@jupyter-widgets/controls",
            "_view_module_version": "1.5.0",
            "_view_name": "HTMLView",
            "description": "",
            "description_tooltip": null,
            "layout": "IPY_MODEL_2f9218ee60a0449ba617e8954da89264",
            "placeholder": "​",
            "style": "IPY_MODEL_cf25b4438e744ec58eedb3479db69775",
            "value": "model.safetensors: 100%"
          }
        },
        "6c43550b40464703a4476077db63f1da": {
          "model_module": "@jupyter-widgets/controls",
          "model_name": "FloatProgressModel",
          "model_module_version": "1.5.0",
          "state": {
            "_dom_classes": [],
            "_model_module": "@jupyter-widgets/controls",
            "_model_module_version": "1.5.0",
            "_model_name": "FloatProgressModel",
            "_view_count": null,
            "_view_module": "@jupyter-widgets/controls",
            "_view_module_version": "1.5.0",
            "_view_name": "ProgressView",
            "bar_style": "success",
            "description": "",
            "description_tooltip": null,
            "layout": "IPY_MODEL_f9fddec0eb414614a757007dc10c82bb",
            "max": 331055963,
            "min": 0,
            "orientation": "horizontal",
            "style": "IPY_MODEL_2cc8c0d05c9c4e2e985c3997571ca3f7",
            "value": 331055963
          }
        },
        "929bfc79f02f474d84616609752d2521": {
          "model_module": "@jupyter-widgets/controls",
          "model_name": "HTMLModel",
          "model_module_version": "1.5.0",
          "state": {
            "_dom_classes": [],
            "_model_module": "@jupyter-widgets/controls",
            "_model_module_version": "1.5.0",
            "_model_name": "HTMLModel",
            "_view_count": null,
            "_view_module": "@jupyter-widgets/controls",
            "_view_module_version": "1.5.0",
            "_view_name": "HTMLView",
            "description": "",
            "description_tooltip": null,
            "layout": "IPY_MODEL_87138de363d2419b967acc7ff44ac709",
            "placeholder": "​",
            "style": "IPY_MODEL_98d275c876c448339a9c91005a70aaa3",
            "value": " 331M/331M [00:05&lt;00:00, 84.4MB/s]"
          }
        },
        "417762b7867c4bc59c033da6891650ac": {
          "model_module": "@jupyter-widgets/base",
          "model_name": "LayoutModel",
          "model_module_version": "1.2.0",
          "state": {
            "_model_module": "@jupyter-widgets/base",
            "_model_module_version": "1.2.0",
            "_model_name": "LayoutModel",
            "_view_count": null,
            "_view_module": "@jupyter-widgets/base",
            "_view_module_version": "1.2.0",
            "_view_name": "LayoutView",
            "align_content": null,
            "align_items": null,
            "align_self": null,
            "border": null,
            "bottom": null,
            "display": null,
            "flex": null,
            "flex_flow": null,
            "grid_area": null,
            "grid_auto_columns": null,
            "grid_auto_flow": null,
            "grid_auto_rows": null,
            "grid_column": null,
            "grid_gap": null,
            "grid_row": null,
            "grid_template_areas": null,
            "grid_template_columns": null,
            "grid_template_rows": null,
            "height": null,
            "justify_content": null,
            "justify_items": null,
            "left": null,
            "margin": null,
            "max_height": null,
            "max_width": null,
            "min_height": null,
            "min_width": null,
            "object_fit": null,
            "object_position": null,
            "order": null,
            "overflow": null,
            "overflow_x": null,
            "overflow_y": null,
            "padding": null,
            "right": null,
            "top": null,
            "visibility": null,
            "width": null
          }
        },
        "2f9218ee60a0449ba617e8954da89264": {
          "model_module": "@jupyter-widgets/base",
          "model_name": "LayoutModel",
          "model_module_version": "1.2.0",
          "state": {
            "_model_module": "@jupyter-widgets/base",
            "_model_module_version": "1.2.0",
            "_model_name": "LayoutModel",
            "_view_count": null,
            "_view_module": "@jupyter-widgets/base",
            "_view_module_version": "1.2.0",
            "_view_name": "LayoutView",
            "align_content": null,
            "align_items": null,
            "align_self": null,
            "border": null,
            "bottom": null,
            "display": null,
            "flex": null,
            "flex_flow": null,
            "grid_area": null,
            "grid_auto_columns": null,
            "grid_auto_flow": null,
            "grid_auto_rows": null,
            "grid_column": null,
            "grid_gap": null,
            "grid_row": null,
            "grid_template_areas": null,
            "grid_template_columns": null,
            "grid_template_rows": null,
            "height": null,
            "justify_content": null,
            "justify_items": null,
            "left": null,
            "margin": null,
            "max_height": null,
            "max_width": null,
            "min_height": null,
            "min_width": null,
            "object_fit": null,
            "object_position": null,
            "order": null,
            "overflow": null,
            "overflow_x": null,
            "overflow_y": null,
            "padding": null,
            "right": null,
            "top": null,
            "visibility": null,
            "width": null
          }
        },
        "cf25b4438e744ec58eedb3479db69775": {
          "model_module": "@jupyter-widgets/controls",
          "model_name": "DescriptionStyleModel",
          "model_module_version": "1.5.0",
          "state": {
            "_model_module": "@jupyter-widgets/controls",
            "_model_module_version": "1.5.0",
            "_model_name": "DescriptionStyleModel",
            "_view_count": null,
            "_view_module": "@jupyter-widgets/base",
            "_view_module_version": "1.2.0",
            "_view_name": "StyleView",
            "description_width": ""
          }
        },
        "f9fddec0eb414614a757007dc10c82bb": {
          "model_module": "@jupyter-widgets/base",
          "model_name": "LayoutModel",
          "model_module_version": "1.2.0",
          "state": {
            "_model_module": "@jupyter-widgets/base",
            "_model_module_version": "1.2.0",
            "_model_name": "LayoutModel",
            "_view_count": null,
            "_view_module": "@jupyter-widgets/base",
            "_view_module_version": "1.2.0",
            "_view_name": "LayoutView",
            "align_content": null,
            "align_items": null,
            "align_self": null,
            "border": null,
            "bottom": null,
            "display": null,
            "flex": null,
            "flex_flow": null,
            "grid_area": null,
            "grid_auto_columns": null,
            "grid_auto_flow": null,
            "grid_auto_rows": null,
            "grid_column": null,
            "grid_gap": null,
            "grid_row": null,
            "grid_template_areas": null,
            "grid_template_columns": null,
            "grid_template_rows": null,
            "height": null,
            "justify_content": null,
            "justify_items": null,
            "left": null,
            "margin": null,
            "max_height": null,
            "max_width": null,
            "min_height": null,
            "min_width": null,
            "object_fit": null,
            "object_position": null,
            "order": null,
            "overflow": null,
            "overflow_x": null,
            "overflow_y": null,
            "padding": null,
            "right": null,
            "top": null,
            "visibility": null,
            "width": null
          }
        },
        "2cc8c0d05c9c4e2e985c3997571ca3f7": {
          "model_module": "@jupyter-widgets/controls",
          "model_name": "ProgressStyleModel",
          "model_module_version": "1.5.0",
          "state": {
            "_model_module": "@jupyter-widgets/controls",
            "_model_module_version": "1.5.0",
            "_model_name": "ProgressStyleModel",
            "_view_count": null,
            "_view_module": "@jupyter-widgets/base",
            "_view_module_version": "1.2.0",
            "_view_name": "StyleView",
            "bar_color": null,
            "description_width": ""
          }
        },
        "87138de363d2419b967acc7ff44ac709": {
          "model_module": "@jupyter-widgets/base",
          "model_name": "LayoutModel",
          "model_module_version": "1.2.0",
          "state": {
            "_model_module": "@jupyter-widgets/base",
            "_model_module_version": "1.2.0",
            "_model_name": "LayoutModel",
            "_view_count": null,
            "_view_module": "@jupyter-widgets/base",
            "_view_module_version": "1.2.0",
            "_view_name": "LayoutView",
            "align_content": null,
            "align_items": null,
            "align_self": null,
            "border": null,
            "bottom": null,
            "display": null,
            "flex": null,
            "flex_flow": null,
            "grid_area": null,
            "grid_auto_columns": null,
            "grid_auto_flow": null,
            "grid_auto_rows": null,
            "grid_column": null,
            "grid_gap": null,
            "grid_row": null,
            "grid_template_areas": null,
            "grid_template_columns": null,
            "grid_template_rows": null,
            "height": null,
            "justify_content": null,
            "justify_items": null,
            "left": null,
            "margin": null,
            "max_height": null,
            "max_width": null,
            "min_height": null,
            "min_width": null,
            "object_fit": null,
            "object_position": null,
            "order": null,
            "overflow": null,
            "overflow_x": null,
            "overflow_y": null,
            "padding": null,
            "right": null,
            "top": null,
            "visibility": null,
            "width": null
          }
        },
        "98d275c876c448339a9c91005a70aaa3": {
          "model_module": "@jupyter-widgets/controls",
          "model_name": "DescriptionStyleModel",
          "model_module_version": "1.5.0",
          "state": {
            "_model_module": "@jupyter-widgets/controls",
            "_model_module_version": "1.5.0",
            "_model_name": "DescriptionStyleModel",
            "_view_count": null,
            "_view_module": "@jupyter-widgets/base",
            "_view_module_version": "1.2.0",
            "_view_name": "StyleView",
            "description_width": ""
          }
        }
      }
    }
  },
  "cells": [
    {
      "cell_type": "code",
      "source": [],
      "metadata": {
        "id": "YbyCVjfI-EUF"
      },
      "execution_count": null,
      "outputs": []
    },
    {
      "cell_type": "code",
      "source": [
        "import os\n",
        "if os.path.exists(\"preprocessed_data(try).pt\"):\n",
        "    os.remove(\"preprocessed_data(try).pt\")\n"
      ],
      "metadata": {
        "id": "gizWWMIk93ae"
      },
      "execution_count": 1,
      "outputs": []
    },
    {
      "cell_type": "code",
      "source": [],
      "metadata": {
        "id": "kmS-m7DuCvFk"
      },
      "execution_count": null,
      "outputs": []
    },
    {
      "cell_type": "code",
      "source": [
        "# ===============================\n",
        "# 🚀 1. Imports & Setup\n",
        "# ===============================\n",
        "import torch\n",
        "from torch.utils.data import DataLoader, TensorDataset\n",
        "from torch import nn\n",
        "from torch.optim import AdamW   # ✅ fixed import\n",
        "from transformers import AutoModelForSequenceClassification, AutoTokenizer, get_linear_schedule_with_warmup\n",
        "from sklearn.metrics import classification_report, confusion_matrix\n",
        "import seaborn as sns\n",
        "import matplotlib.pyplot as plt\n",
        "import numpy as np\n",
        "import time, random, os\n",
        "\n",
        "# For reproducibility\n",
        "SEED = 42\n",
        "random.seed(SEED)\n",
        "np.random.seed(SEED)\n",
        "torch.manual_seed(SEED)\n",
        "if torch.cuda.is_available():\n",
        "    torch.cuda.manual_seed_all(SEED)\n",
        "\n",
        "device = torch.device(\"cuda\" if torch.cuda.is_available() else \"cpu\")\n",
        "print(\"Using device:\", device)\n"
      ],
      "metadata": {
        "colab": {
          "base_uri": "https://localhost:8080/"
        },
        "id": "pWxwEPjYOgir",
        "outputId": "46f86d61-10db-4592-e32a-3a3461555344"
      },
      "execution_count": 1,
      "outputs": [
        {
          "output_type": "stream",
          "name": "stdout",
          "text": [
            "Using device: cuda\n"
          ]
        }
      ]
    },
    {
      "cell_type": "code",
      "source": [
        "import torch\n",
        "import joblib\n",
        "\n",
        "data = torch.load(\"/content/preprocessed_data (2).pt\")\n",
        "le = joblib.load(\"/content/label_encoder.pkl\")\n",
        "print(\"Loaded label mapping:\", dict(zip(le.classes_, range(len(le.classes_)))))\n"
      ],
      "metadata": {
        "colab": {
          "base_uri": "https://localhost:8080/"
        },
        "id": "mOmxQyeoKGeF",
        "outputId": "34192730-3e7c-44eb-d389-a78e191b6b0b"
      },
      "execution_count": 3,
      "outputs": [
        {
          "output_type": "stream",
          "name": "stdout",
          "text": [
            "Loaded label mapping: {'Active to Passive': 0, 'Direct to Indirect': 1, 'Indirect to Direct': 2, 'Negative to Positive': 3, 'Passive to Active': 4, 'Positive to Negative': 5}\n"
          ]
        }
      ]
    },
    {
      "cell_type": "code",
      "source": [
        "# ===============================\n",
        "# 📂 2. Load Preprocessed Data (Fixed Version)\n",
        "# ===============================\n",
        "from torch.utils.data import TensorDataset, DataLoader\n",
        "import transformers\n",
        "import joblib\n",
        "import torch\n",
        "\n",
        "torch.serialization.add_safe_globals([transformers.tokenization_utils_base.BatchEncoding])\n",
        "\n",
        "# ✅ Load preprocessed dataset\n",
        "data = torch.load(\"/content/preprocessed_data (2).pt\", weights_only=False)\n",
        "\n",
        "# ✅ Load label encoder separately\n",
        "le = joblib.load(\"/content/label_encoder.pkl\")\n",
        "\n",
        "print(\"Classes:\", list(le.classes_))\n",
        "num_labels = len(le.classes_)\n",
        "\n",
        "# ✅ Create TensorDatasets with correct label dtype\n",
        "train_dataset = TensorDataset(\n",
        "    data['train_input']['input_ids'],\n",
        "    data['train_input']['attention_mask'],\n",
        "    data['train_labels'].long()\n",
        ")\n",
        "val_dataset = TensorDataset(\n",
        "    data['val_input']['input_ids'],\n",
        "    data['val_input']['attention_mask'],\n",
        "    data['val_labels'].long()\n",
        ")\n",
        "test_dataset = TensorDataset(\n",
        "    data['test_input']['input_ids'],\n",
        "    data['test_input']['attention_mask'],\n",
        "    data['test_labels'].long()\n",
        ")\n",
        "\n",
        "# ✅ DataLoaders\n",
        "train_dl = DataLoader(train_dataset, batch_size=16, shuffle=True)\n",
        "val_dl   = DataLoader(val_dataset, batch_size=16)\n",
        "test_dl  = DataLoader(test_dataset, batch_size=16)\n",
        "\n",
        "print(\"✅ Data loaded and ready for training.\")\n",
        "\n"
      ],
      "metadata": {
        "colab": {
          "base_uri": "https://localhost:8080/"
        },
        "id": "9UMWbMxbO8SM",
        "outputId": "0a42d945-9eba-428b-e6b6-25ff7f17304c"
      },
      "execution_count": 7,
      "outputs": [
        {
          "output_type": "stream",
          "name": "stdout",
          "text": [
            "Classes: ['Active to Passive', 'Direct to Indirect', 'Indirect to Direct', 'Negative to Positive', 'Passive to Active', 'Positive to Negative']\n",
            "✅ Data loaded and ready for training.\n"
          ]
        }
      ]
    },
    {
      "cell_type": "code",
      "source": [
        "# ===============================\n",
        "# 3. Define Model\n",
        "# ===============================\n",
        "MODEL_NAME = \"distilroberta-base\"\n",
        "  # or try \"bert-base-uncased\",\"distilobertabase\"\n",
        "\n",
        "model = AutoModelForSequenceClassification.from_pretrained(\n",
        "    MODEL_NAME,\n",
        "    num_labels=num_labels\n",
        ")\n",
        "model = model.to(device)\n"
      ],
      "metadata": {
        "colab": {
          "base_uri": "https://localhost:8080/",
          "height": 240,
          "referenced_widgets": [
            "d304bfc241344b788e2c2b5a03bbe58a",
            "e574367ea906483e8def290a48b926e8",
            "22a9d19405ea458699b5c64055fcbbac",
            "49584b109d92472db022122afb39370b",
            "050528c8f7844d4f904d978054f02b15",
            "884be1be522f4474955292f627dfdb02",
            "d19cacc4e1bb47948be4f38ec4e62a93",
            "52030aa316964c29991d6626a4a90b4d",
            "c880151efb264b898d7bb11f07e2b7ab",
            "a601bec4f095405ebd9fb453a83e3f6c",
            "1a62e04dca2e4a3586b05dde656eaee0",
            "cf6cfbf37f534d2c8fdf85e6dd489508",
            "095189982fdf4880b1fe48085f11d09f",
            "6c43550b40464703a4476077db63f1da",
            "929bfc79f02f474d84616609752d2521",
            "417762b7867c4bc59c033da6891650ac",
            "2f9218ee60a0449ba617e8954da89264",
            "cf25b4438e744ec58eedb3479db69775",
            "f9fddec0eb414614a757007dc10c82bb",
            "2cc8c0d05c9c4e2e985c3997571ca3f7",
            "87138de363d2419b967acc7ff44ac709",
            "98d275c876c448339a9c91005a70aaa3"
          ]
        },
        "id": "m4bAu_TwPB9L",
        "outputId": "3491aace-810e-4b8a-deec-b4b58ed7337b"
      },
      "execution_count": 8,
      "outputs": [
        {
          "output_type": "stream",
          "name": "stderr",
          "text": [
            "/usr/local/lib/python3.12/dist-packages/huggingface_hub/utils/_auth.py:94: UserWarning: \n",
            "The secret `HF_TOKEN` does not exist in your Colab secrets.\n",
            "To authenticate with the Hugging Face Hub, create a token in your settings tab (https://huggingface.co/settings/tokens), set it as secret in your Google Colab and restart your session.\n",
            "You will be able to reuse this secret in all of your notebooks.\n",
            "Please note that authentication is recommended but still optional to access public models or datasets.\n",
            "  warnings.warn(\n"
          ]
        },
        {
          "output_type": "display_data",
          "data": {
            "text/plain": [
              "config.json:   0%|          | 0.00/480 [00:00<?, ?B/s]"
            ],
            "application/vnd.jupyter.widget-view+json": {
              "version_major": 2,
              "version_minor": 0,
              "model_id": "d304bfc241344b788e2c2b5a03bbe58a"
            }
          },
          "metadata": {}
        },
        {
          "output_type": "display_data",
          "data": {
            "text/plain": [
              "model.safetensors:   0%|          | 0.00/331M [00:00<?, ?B/s]"
            ],
            "application/vnd.jupyter.widget-view+json": {
              "version_major": 2,
              "version_minor": 0,
              "model_id": "cf6cfbf37f534d2c8fdf85e6dd489508"
            }
          },
          "metadata": {}
        },
        {
          "output_type": "stream",
          "name": "stderr",
          "text": [
            "Some weights of RobertaForSequenceClassification were not initialized from the model checkpoint at distilroberta-base and are newly initialized: ['classifier.dense.bias', 'classifier.dense.weight', 'classifier.out_proj.bias', 'classifier.out_proj.weight']\n",
            "You should probably TRAIN this model on a down-stream task to be able to use it for predictions and inference.\n"
          ]
        }
      ]
    },
    {
      "cell_type": "code",
      "source": [
        "# ===============================\n",
        "# ⚙️ 4. Training Setup\n",
        "# ===============================\n",
        "EPOCHS = 9\n",
        "LR = 2e-5\n",
        "batch_size=16\n",
        "\n",
        "optimizer = AdamW(model.parameters(), lr=LR, weight_decay=0.01)\n",
        "total_steps = len(train_dl) * EPOCHS\n",
        "\n",
        "scheduler = get_linear_schedule_with_warmup(\n",
        "    optimizer,\n",
        "    num_warmup_steps=int(0.06 * total_steps),\n",
        "    num_training_steps=total_steps\n",
        ")\n",
        "\n",
        "loss_fn = nn.CrossEntropyLoss()\n"
      ],
      "metadata": {
        "id": "91fTiS8KPcKh"
      },
      "execution_count": 19,
      "outputs": []
    },
    {
      "cell_type": "code",
      "source": [
        "# ===============================\n",
        "# 🏋️‍♂️ 5. Training Function\n",
        "# ===============================\n",
        "def train_one_epoch(model, dataloader):\n",
        "    model.train()\n",
        "    total_loss, correct = 0, 0\n",
        "    for batch in dataloader:\n",
        "        b_input_ids, b_mask, b_labels = [x.to(device) for x in batch]\n",
        "        optimizer.zero_grad()\n",
        "        outputs = model(input_ids=b_input_ids, attention_mask=b_mask, labels=b_labels)\n",
        "        loss, logits = outputs.loss, outputs.logits\n",
        "        loss.backward()\n",
        "        optimizer.step()\n",
        "        scheduler.step()\n",
        "        total_loss += loss.item()\n",
        "        correct += (logits.argmax(dim=1) == b_labels).sum().item()\n",
        "    return total_loss / len(dataloader), correct / len(dataloader.dataset)\n",
        "\n"
      ],
      "metadata": {
        "id": "LWFa9Bm5PhpZ"
      },
      "execution_count": 20,
      "outputs": []
    },
    {
      "cell_type": "code",
      "source": [
        "# ===============================\n",
        "# 🧪 6. Evaluation Function\n",
        "# ===============================\n",
        "def evaluate(model, dataloader):\n",
        "    model.eval()\n",
        "    total_loss, correct = 0, 0\n",
        "    preds, labels_all = [], []\n",
        "    with torch.no_grad():\n",
        "        for batch in dataloader:\n",
        "            b_input_ids, b_mask, b_labels = [x.to(device) for x in batch]\n",
        "            outputs = model(input_ids=b_input_ids, attention_mask=b_mask, labels=b_labels)\n",
        "            loss, logits = outputs.loss, outputs.logits\n",
        "            total_loss += loss.item()\n",
        "            preds += logits.argmax(dim=1).cpu().tolist()\n",
        "            labels_all += b_labels.cpu().tolist()\n",
        "            correct += (logits.argmax(dim=1) == b_labels).sum().item()\n",
        "    return total_loss / len(dataloader), correct / len(dataloader.dataset), preds, labels_all\n"
      ],
      "metadata": {
        "id": "NAP4ITPbPnIE"
      },
      "execution_count": 21,
      "outputs": []
    },
    {
      "cell_type": "code",
      "source": [
        "# ===============================\n",
        "# 🚀 7. Training Loop\n",
        "# ===============================\n",
        "best_val_acc = 0\n",
        "for epoch in range(EPOCHS):\n",
        "    start = time.time()\n",
        "    train_loss, train_acc = train_one_epoch(model, train_dl)\n",
        "    val_loss, val_acc, _, _ = evaluate(model, val_dl)\n",
        "\n",
        "    print(f\"Epoch {epoch+1}/{EPOCHS}\")\n",
        "    print(f\"Train Loss: {train_loss:.4f}, Train Acc: {train_acc:.4f}\")\n",
        "    print(f\"Val Loss: {val_loss:.4f}, Val Acc: {val_acc:.4f}\")\n",
        "    print(\"Time:\", round(time.time() - start, 2), \"sec\")\n",
        "\n",
        "    # Save best model\n",
        "    if val_acc > best_val_acc:\n",
        "        best_val_acc = val_acc\n",
        "        torch.save(model.state_dict(), \"best_model.pt\")\n",
        "        print(\"✅ Best model saved.\")\n"
      ],
      "metadata": {
        "colab": {
          "base_uri": "https://localhost:8080/"
        },
        "id": "PTdqXe5lPrqS",
        "outputId": "62a33207-438e-4359-8089-b15d11ff22c2"
      },
      "execution_count": 22,
      "outputs": [
        {
          "output_type": "stream",
          "name": "stdout",
          "text": [
            "Epoch 1/9\n",
            "Train Loss: 0.4810, Train Acc: 0.7937\n",
            "Val Loss: 0.9593, Val Acc: 0.5873\n",
            "Time: 6.8 sec\n",
            "✅ Best model saved.\n",
            "Epoch 2/9\n",
            "Train Loss: 0.4225, Train Acc: 0.8060\n",
            "Val Loss: 0.9664, Val Acc: 0.5767\n",
            "Time: 6.93 sec\n",
            "Epoch 3/9\n",
            "Train Loss: 0.3805, Train Acc: 0.8377\n",
            "Val Loss: 1.1713, Val Acc: 0.5820\n",
            "Time: 6.99 sec\n",
            "Epoch 4/9\n",
            "Train Loss: 0.3243, Train Acc: 0.8765\n",
            "Val Loss: 1.2308, Val Acc: 0.5661\n",
            "Time: 8.28 sec\n",
            "Epoch 5/9\n",
            "Train Loss: 0.3090, Train Acc: 0.8818\n",
            "Val Loss: 1.2692, Val Acc: 0.5820\n",
            "Time: 7.02 sec\n",
            "Epoch 6/9\n",
            "Train Loss: 0.2563, Train Acc: 0.9065\n",
            "Val Loss: 1.3176, Val Acc: 0.5926\n",
            "Time: 6.9 sec\n",
            "✅ Best model saved.\n",
            "Epoch 7/9\n",
            "Train Loss: 0.2177, Train Acc: 0.9347\n",
            "Val Loss: 1.4389, Val Acc: 0.5714\n",
            "Time: 6.77 sec\n",
            "Epoch 8/9\n",
            "Train Loss: 0.1889, Train Acc: 0.9312\n",
            "Val Loss: 1.4844, Val Acc: 0.5820\n",
            "Time: 6.7 sec\n",
            "Epoch 9/9\n",
            "Train Loss: 0.1577, Train Acc: 0.9506\n",
            "Val Loss: 1.5158, Val Acc: 0.5767\n",
            "Time: 6.73 sec\n"
          ]
        }
      ]
    },
    {
      "cell_type": "code",
      "source": [
        "# ===============================\n",
        "# 🧪 8. Test Evaluation\n",
        "# ===============================\n",
        "model.load_state_dict(torch.load(\"best_model.pt\"))\n",
        "test_loss, test_acc, preds, labels_all = evaluate(model, test_dl)\n",
        "\n",
        "print(f\"\\n🎯 Test Loss: {test_loss:.4f}, Test Accuracy: {test_acc:.4f}\")\n",
        "print(\"\\nClassification Report:\")\n",
        "print(classification_report(labels_all, preds, target_names=le.classes_))\n"
      ],
      "metadata": {
        "id": "BpjQDD5b-DIc",
        "colab": {
          "base_uri": "https://localhost:8080/"
        },
        "outputId": "d01698b9-696d-441c-b9ac-90d63d7df00a"
      },
      "execution_count": 23,
      "outputs": [
        {
          "output_type": "stream",
          "name": "stdout",
          "text": [
            "\n",
            "🎯 Test Loss: 1.3068, Test Accuracy: 0.6032\n",
            "\n",
            "Classification Report:\n",
            "                      precision    recall  f1-score   support\n",
            "\n",
            "   Active to Passive       0.56      0.53      0.55        34\n",
            "  Direct to Indirect       0.57      0.71      0.63        34\n",
            "  Indirect to Direct       0.62      0.47      0.53        34\n",
            "Negative to Positive       0.68      0.65      0.67        26\n",
            "   Passive to Active       0.56      0.59      0.57        34\n",
            "Positive to Negative       0.68      0.70      0.69        27\n",
            "\n",
            "            accuracy                           0.60       189\n",
            "           macro avg       0.61      0.61      0.61       189\n",
            "        weighted avg       0.61      0.60      0.60       189\n",
            "\n"
          ]
        }
      ]
    },
    {
      "cell_type": "code",
      "source": [
        "# ===============================\n",
        "# 🔍 9. Confusion Matrix\n",
        "# ===============================\n",
        "cm = confusion_matrix(labels_all, preds)\n",
        "plt.figure(figsize=(6,6))\n",
        "sns.heatmap(cm, annot=True, fmt='d', cmap='Blues',\n",
        "            xticklabels=le.classes_, yticklabels=le.classes_)\n",
        "plt.xlabel(\"Predicted\")\n",
        "plt.ylabel(\"True\")\n",
        "plt.title(\"Confusion Matrix\")\n",
        "plt.show()\n"
      ],
      "metadata": {
        "colab": {
          "base_uri": "https://localhost:8080/",
          "height": 689
        },
        "id": "05nnu0b5OJHN",
        "outputId": "883c3560-fbfb-449c-d393-c5f0bc469721"
      },
      "execution_count": 24,
      "outputs": [
        {
          "output_type": "display_data",
          "data": {
            "text/plain": [
              "<Figure size 600x600 with 2 Axes>"
            ],
            "image/png": "[encoded data removed]"
          },
          "metadata": {}
        }
      ]
    },
    {
      "cell_type": "code",
      "source": [
        "# ===============================\n",
        "# 💾 10. Save Full Model\n",
        "# ===============================\n",
        "# Load the tokenizer\n",
        "tokenizer = AutoTokenizer.from_pretrained(MODEL_NAME)\n",
        "\n",
        "model.save_pretrained(\"transformation_classifier\")\n",
        "tokenizer.save_pretrained(\"transformation_classifier\")\n",
        "print(\"✅ Model + tokenizer saved in 'transformation_classifier/' folder\")"
      ],
      "metadata": {
        "colab": {
          "base_uri": "https://localhost:8080/"
        },
        "id": "Y0w_neQjOOjN",
        "outputId": "10e0a0f6-1a7d-4b1f-c585-fdff1a666aca"
      },
      "execution_count": 27,
      "outputs": [
        {
          "output_type": "stream",
          "name": "stdout",
          "text": [
            "✅ Model + tokenizer saved in 'transformation_classifier/' folder\n"
          ]
        }
      ]
    },
    {
      "cell_type": "code",
      "source": [
        "from google.colab import drive\n",
        "drive.mount('/content/drive')\n",
        "\n",
        "!cp -r transformation_classifier /content/drive/MyDrive/\n",
        "print(\"✅ Model folder copied to Google Drive!\")\n"
      ],
      "metadata": {
        "colab": {
          "base_uri": "https://localhost:8080/"
        },
        "id": "eSuG4TsMSjLZ",
        "outputId": "f9a68bd8-6fef-448c-a77e-4fc7672bb0d0"
      },
      "execution_count": 28,
      "outputs": [
        {
          "output_type": "stream",
          "name": "stdout",
          "text": [
            "Mounted at /content/drive\n",
            "✅ Model folder copied to Google Drive!\n"
          ]
        }
      ]
    },
    {
      "cell_type": "code",
      "source": [],
      "metadata": {
        "id": "0DfwwT9o1aQD"
      },
      "execution_count": null,
      "outputs": []
    }
  ]
}